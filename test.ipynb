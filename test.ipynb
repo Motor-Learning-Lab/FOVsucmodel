{
 "cells": [
  {
   "cell_type": "code",
   "execution_count": 5,
   "metadata": {},
   "outputs": [
    {
     "name": "stdout",
     "output_type": "stream",
     "text": [
      "Downloading model_session_final.csv...\n",
      "Saved model_session_final.csv successfully!\n",
      "Downloading model_trial_final.csv...\n",
      "Saved model_trial_final.csv successfully!\n"
     ]
    }
   ],
   "source": [
    "import requests\n",
    "import os\n",
    "\n",
    "# DOI for your dataset\n",
    "doi_url = \"https://doi.org/10.6084/m9.figshare.27061012.v1\"\n",
    "\n",
    "# Convert DOI to the Figshare URL\n",
    "figshare_api_url = \"https://api.figshare.com/v2/articles/27061012\"\n",
    "\n",
    "# Fetch the metadata of the Figshare article\n",
    "response = requests.get(figshare_api_url)\n",
    "article_metadata = response.json()\n",
    "\n",
    "# Extract files from the metadata\n",
    "files = article_metadata['files']\n",
    "\n",
    "# Download each file\n",
    "for file in files:\n",
    "    file_name = file['name']\n",
    "    file_url = file['download_url']\n",
    "    \n",
    "    print(f\"Downloading {file_name}...\")\n",
    "    \n",
    "    # Request the file\n",
    "    file_response = requests.get(file_url)\n",
    "    \n",
    "    # Save the file to the current directory\n",
    "    with open(file_name, 'wb') as f:\n",
    "        f.write(file_response.content)\n",
    "    \n",
    "    print(f\"Saved {file_name} successfully!\")\n",
    "\n"
   ]
  },
  {
   "cell_type": "code",
   "execution_count": 7,
   "metadata": {},
   "outputs": [
    {
     "name": "stdout",
     "output_type": "stream",
     "text": [
      "     fish     stage  day  plotday  trial  EST   distance        yds  \\\n",
      "0  fish10  Baseline    1        1      6  3.0   4.967500  -3.509971   \n",
      "1  fish10  Baseline    2        2      6  3.0   4.343363  -1.129426   \n",
      "2  fish10  Baseline    3        3      6  0.0  12.702046  69.306544   \n",
      "3  fish10  Baseline    4        4      6  4.0   7.391817  -5.559962   \n",
      "4  fish10  Baseline    5        5      6  3.5   3.078861  -3.114586   \n",
      "\n",
      "   circular_mean_degrees  \n",
      "0              -3.633032  \n",
      "1             -13.576560  \n",
      "2              92.995904  \n",
      "3              -5.710687  \n",
      "4               2.308043  \n"
     ]
    }
   ],
   "source": [
    "import pandas as pd\n",
    "\n",
    "# Example for loading the CSV file\n",
    "df1 = pd.read_csv('model_session_final.csv')\n",
    "\n",
    "\n",
    "# Display the first few rows of each file\n",
    "print(df1.head())\n"
   ]
  }
 ],
 "metadata": {
  "kernelspec": {
   "display_name": "pymc_env",
   "language": "python",
   "name": "python3"
  },
  "language_info": {
   "codemirror_mode": {
    "name": "ipython",
    "version": 3
   },
   "file_extension": ".py",
   "mimetype": "text/x-python",
   "name": "python",
   "nbconvert_exporter": "python",
   "pygments_lexer": "ipython3",
   "version": "3.11.8"
  }
 },
 "nbformat": 4,
 "nbformat_minor": 2
}
