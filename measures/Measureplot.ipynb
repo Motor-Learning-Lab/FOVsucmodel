{
 "cells": [
  {
   "cell_type": "code",
   "execution_count": 1,
   "metadata": {},
   "outputs": [],
   "source": [
    "import pandas as pd\n",
    "import matplotlib.pyplot as plt\n",
    "import matplotlib.patches as patches\n",
    "import numpy as np\n",
    "import os\n",
    "import math\n",
    "from matplotlib.animation import FuncAnimation\n",
    "from matplotlib.patches import Rectangle, FancyArrowPatch\n",
    "import seaborn as sns"
   ]
  },
  {
   "cell_type": "code",
   "execution_count": 2,
   "metadata": {},
   "outputs": [],
   "source": [
    "session_df = pd.read_csv(\"D:\\FOVmeasure\\Measures\\measures\\model_sessionplot_df.csv\")\n",
    "Asession_df = pd.read_csv(\"D:\\FOVmeasure\\Measures\\measures\\model_Asessionplot_df.csv\")\n",
    "trial_df = pd.read_csv(\"D:\\FOVmeasure\\Measures\\measures\\model_trial_df.csv\")\n",
    "\n",
    "Psession_df = pd.read_csv(\"D:\\FOVmeasure\\Measures\\Pdata\\Psessionplot.csv\")\n",
    "Ptrial_df = pd.read_csv(\"D:\\FOVmeasure\\Measures\\Pdata\\Ptrial.csv\")"
   ]
  },
  {
   "cell_type": "code",
   "execution_count": 3,
   "metadata": {},
   "outputs": [],
   "source": [
    "#input some set up\n",
    "#target point(-2.85,0.108).position point(-2.85,-0.623),width0.71,height1.256,and the rader postion0.45,\n",
    "# Define the target point\n",
    "target_x = -2.025\n",
    "rader_x = 0.45\n",
    "target_y = 0\n",
    "\n",
    " # Define the vertices of the hexagon in (x,y) coordinate pairs\n",
    "vertices = [(-2.5, -1.37), (-2.5, 1.486), (-0.04,  1.486), (-0.04, 1.123), (0.8465, 1.123), (0.8465, -1.37)]\n",
    "\n",
    "# Define the target area position, width, and height.target point(-2.85,0.108).position point(-2.85,-0.623),width0.71,height1.256,and the rader postion error 0.32\n",
    "rect_pos = (-2.2,-0.314 )\n",
    "rect_width = 0.35\n",
    "rect_height = 0.628\n",
    "\n",
    "robot_width = 0.4\n",
    "\n",
    "criterion_dis = 4\n",
    "criterion_Yr = 0.314\n",
    "\n",
    "criterion_Yr_2 = 0.628\n",
    "\n",
    "x_range = (-2.8,1.8)\n",
    "y_range = (-1.8,1.8)\n",
    "time_range = (0,180)\n",
    "Y_range = (0,0.5)\n",
    "\n",
    "# Define the path to the directory containing the data, the path to store the output \n",
    "\n",
    "diskaddress = \"D:/FOVmeasure/\"\n",
    "\n",
    "Measures_dir = os.path.join(diskaddress,\"Measures/\")\n",
    "data_dir = os.path.join(Measures_dir,\"data/\")\n",
    "Pdata_dir = os.path.join(Measures_dir,\"Pdata/\")\n",
    "plot_dir = os.path.join(Measures_dir,\"plot/\")\n",
    "plotA_dir = os.path.join(Measures_dir,\"plot/Acrossfish\")\n",
    "\n",
    "Baselinedata_dir = os.path.join(diskaddress,\"Rawdata/Baselinedata/\")\n",
    "Rotationdata_dir = os.path.join(diskaddress,\"Rawdata/Rotationdata/\")\n",
    "Washoutdata_dir = os.path.join(diskaddress,\"Rawdata/Washoutdata/\")\n",
    "ReRotationdata_dir = os.path.join(diskaddress,\"Rawdata/ReRotationdata/\")\n",
    "ReWashoutdata_dir = os.path.join(diskaddress,\"Rawdata/ReWashoutdata/\")\n",
    "fishmeasures_dir = os.path.join(Measures_dir,\"measures/\")\n",
    "\n",
    "\n",
    "# Create the directory if it does not exist\n",
    "if not os.path.exists(Measures_dir):\n",
    "    os.makedirs(Measures_dir)\n",
    "if not os.path.exists(Pdata_dir):\n",
    "    os.makedirs(Pdata_dir)\n",
    "# Create the directory if it does not exist\n",
    "if not os.path.exists(fishmeasures_dir):\n",
    "    os.makedirs(fishmeasures_dir)\n",
    "    # Create the directory if it does not exist\n",
    "if not os.path.exists(plot_dir):\n",
    "    os.makedirs(plot_dir)\n",
    "if not os.path.exists(plotA_dir):\n",
    "    os.makedirs(plotA_dir)\n",
    "# Define a list of stages in the correct order\n",
    "stages = ['Baseline', 'Rotation', 'Washout', 'ReRotation','ReWashout']\n",
    "stages_BWR= ['Baseline', 'Rotation', 'Washout']\n",
    "stages_RReR= ['Rotation', 'ReRotation']\n",
    "stages_ReRReW= [ 'ReRotation', 'ReWashout']\n",
    "stages_RW = ['Rotation', 'Washout']\n",
    "\n",
    "\n",
    "# Define color mapping for trial phases\n",
    "phase_colors = {\n",
    "    'Baseline': '#F0E442',  # Yellow\n",
    "    'Rotation': '#CC79A7',   # Reddish Purple\n",
    "    'Washout': '#F0E442',  # Yellow\n",
    "    'ReRotation': '#56B4E9',  # Sky Blue\n",
    "    'ReWashout':   '#E69F00',  # Orange\n",
    "}\n",
    "phase_colors_BWR = {\n",
    "    'Baseline': '#F0E442',  # Yellow\n",
    "    'Rotation': '#CC79A7',   # Reddish Purple\n",
    "    'Washout': '#F0E442',  # Yellow\n",
    "}\n",
    "\n",
    "\n"
   ]
  },
  {
   "cell_type": "code",
   "execution_count": 4,
   "metadata": {},
   "outputs": [],
   "source": [
    "def plot_sesssionmeasure_by_stage(sessiondf,sessionmeasure,  y_label, ylim=(-10, 10)):\n",
    "    \"\"\"\n",
    "    Plots the specified measure for each fish by stage.\n",
    "\n",
    "    Parameters:\n",
    "        df (DataFrame): The combined DataFrame containing the data.\n",
    "        measure (str): The column name of the measure to plot.\n",
    "        y_label (str): The label for the y-axis.\n",
    "        ylim (tuple): The limits for the y-axis.\n",
    "    \"\"\"\n",
    "    for fish in sessiondf['fish_id'].unique():\n",
    "        plt.figure(figsize=(14, 4.8))  # Set figure size\n",
    "        \n",
    "        for stage in stages:\n",
    "            # Filter data for the current fish and stage\n",
    "\n",
    "            sessiondata_filter = sessiondf[(sessiondf['fish_id'] == fish) & (sessiondf['session'] == stage)]\n",
    "            # Plot the data with the appropriate color for the stage\n",
    "            plt.plot(sessiondata_filter['plotday'], sessiondata_filter[sessionmeasure], color=phase_colors[stage], label=stage)\n",
    "\n",
    "\n",
    "        plt.xlabel('Plot Day')  # Set x-axis label\n",
    "        plt.ylabel(y_label)  # Set y-axis label\n",
    "        plt.title(f'Fish {fish} - {y_label} by Stage')  # Set plot title\n",
    "      #  plt.legend(title='Stage', bbox_to_anchor=(1, 1))  # Configure legend\n",
    "        plt.ylim(ylim)  # Set fixed data range for y-axis\n",
    "        plt.grid(False)  # Show grid\n",
    "        # Define the output directory and file path\n",
    "        output_file_path = os.path.join(plot_dir, f'{fish}')\n",
    "        \n",
    "        # Create the directory if it does not exist\n",
    "        if not os.path.exists(output_file_path):\n",
    "            os.makedirs(output_file_path)\n",
    "        \n",
    "        # Save the plot to a file\n",
    "        plt.savefig(os.path.join(output_file_path,f'{fish}_{sessionmeasure}_smplot.png'), bbox_inches='tight')\n",
    "        \n",
    "        plt.close()  # Close the plot to free memory"
   ]
  },
  {
   "cell_type": "code",
   "execution_count": 12,
   "metadata": {},
   "outputs": [],
   "source": [
    "def plot_sessionmeasure_relation(sessiondf, sessionmeasure1, sessionmeasure2, y_label, ylim=(-10, 10)):\n",
    "    \"\"\"\n",
    "    Plots the specified measure for each fish by stage.\n",
    "\n",
    "    Parameters:\n",
    "        sessiondf (DataFrame): The combined DataFrame containing the data.\n",
    "        sessionmeasure1 (str): The column name of the measure to plot on the x-axis.\n",
    "        sessionmeasure2 (str): The column name of the measure to plot on the y-axis.\n",
    "        y_label (str): The label for the y-axis.\n",
    "        ylim (tuple): The limits for the y-axis.\n",
    "    \"\"\"\n",
    "    for fish in sessiondf['fish_id'].unique():\n",
    "        for stage in sessiondf['session'].unique():\n",
    "            plt.figure(figsize=(14, 4.8))  # Set figure size\n",
    "            # Filter data for the current fish and stage\n",
    "            sessiondata_filter = sessiondf[(sessiondf['fish_id'] == fish) & (sessiondf['session'] == stage)]\n",
    "            \n",
    "            # Create a scatter plot with color based on 'plotday'\n",
    "            scatter = plt.scatter(sessiondata_filter[sessionmeasure1], \n",
    "                                  sessiondata_filter[sessionmeasure2], \n",
    "                                  c=sessiondata_filter['plotday'], \n",
    "                                  cmap='viridis',  # You can choose any colormap you like\n",
    "                                  edgecolor='k')  # Optional: add edge color to points for better visibility\n",
    "\n",
    "            plt.xlabel(sessionmeasure1)  # Set x-axis label\n",
    "            plt.ylabel(sessionmeasure2)  # Set y-axis label\n",
    "            plt.title(f'Fish {fish} - {y_label}')  # Set plot title\n",
    "            plt.ylim(ylim)  # Set fixed data range for y-axis\n",
    "            plt.grid(False)  # Show grid\n",
    "\n",
    "            # Add colorbar to show the mapping of colors to 'plotday'\n",
    "            cbar = plt.colorbar(scatter)\n",
    "            cbar.set_label('Plot Day')\n",
    "\n",
    "            # Define the output directory and file path\n",
    "            output_file_path = os.path.join('plot_dir', f'{fish}', f'{stage}')\n",
    "            \n",
    "            # Create the directory if it does not exist\n",
    "            if not os.path.exists(output_file_path):\n",
    "                os.makedirs(output_file_path)\n",
    "            \n",
    "            # Save the plot to a file\n",
    "            plt.savefig(os.path.join(output_file_path, f'{fish}_{sessionmeasure1}_{sessionmeasure2}.png'), bbox_inches='tight')\n",
    "            plt.close()  # Close the plot to free memor"
   ]
  },
  {
   "cell_type": "code",
   "execution_count": 4,
   "metadata": {},
   "outputs": [],
   "source": [
    "def plot_measure_by_stage(sessiondf,trialdf,sessionmeasure, trialmeasure, y_label, ylim=(-10, 10)):\n",
    "    \"\"\"\n",
    "    Plots the specified measure for each fish by stage.\n",
    "\n",
    "    Parameters:\n",
    "        df (DataFrame): The combined DataFrame containing the data.\n",
    "        measure (str): The column name of the measure to plot.\n",
    "        y_label (str): The label for the y-axis.\n",
    "        ylim (tuple): The limits for the y-axis.\n",
    "    \"\"\"\n",
    "    for fish in sessiondf['fish_id'].unique():\n",
    "        plt.figure(figsize=(14, 4.8))  # Set figure size\n",
    "        \n",
    "        for stage in stages:\n",
    "            # Filter data for the current fish and stage\n",
    "            trialdata_filter = trialdf[(trialdf['fish_id'] == fish) & (trialdf['session'] == stage)]\n",
    "            sessiondata_filter = sessiondf[(sessiondf['fish_id'] == fish) & (sessiondf['session'] == stage)]\n",
    "            # Plot the data with the appropriate color for the stage\n",
    "            plt.plot(sessiondata_filter['plotday'], sessiondata_filter[sessionmeasure], color=phase_colors[stage], label=stage)\n",
    "            plt.scatter(trialdata_filter['plotday'], trialdata_filter[trialmeasure], color=phase_colors[stage], s=1, label=stage)\n",
    "\n",
    "        plt.xlabel('Plot Day')  # Set x-axis label\n",
    "        plt.ylabel(y_label)  # Set y-axis label\n",
    "        plt.title(f'Fish {fish} - {y_label} by Stage')  # Set plot title\n",
    "       # plt.legend(title='Stage', bbox_to_anchor=(1, 1))  # Configure legend\n",
    "        plt.ylim(ylim)  # Set fixed data range for y-axis\n",
    "        plt.grid(False)  # Show grid\n",
    "        # Define the output directory and file path\n",
    "        output_file_path = os.path.join(plot_dir, f'{fish}')\n",
    "        \n",
    "        # Create the directory if it does not exist\n",
    "        if not os.path.exists(output_file_path):\n",
    "            os.makedirs(output_file_path)\n",
    "        \n",
    "        # Save the plot to a file\n",
    "        plt.savefig(os.path.join(output_file_path,f'{fish}_{sessionmeasure}_plot.png'), bbox_inches='tight')\n",
    "        \n",
    "        plt.close()  # Close the plot to free memory"
   ]
  },
  {
   "cell_type": "code",
   "execution_count": 7,
   "metadata": {},
   "outputs": [],
   "source": [
    "def plot_mutimeasure_by_stage(sessiondf,trialdf,sessionmeasure1,sessionmeasure2,sessionmeasure3,sessionmeasure4, trialmeasure, y_label, ylim=(-10, 10)):\n",
    "    \"\"\"\n",
    "    Plots the specified measure for each fish by stage.\n",
    "\n",
    "    Parameters:\n",
    "        df (DataFrame): The combined DataFrame containing the data.\n",
    "        measure (str): The column name of the measure to plot.\n",
    "        y_label (str): The label for the y-axis.\n",
    "        ylim (tuple): The limits for the y-axis.\n",
    "    \"\"\"\n",
    "    for fish in sessiondf['fish_id'].unique():\n",
    "        plt.figure(figsize=(14, 4.8))  # Set figure size\n",
    "        \n",
    "        for stage in stages:\n",
    "            # Filter data for the current fish and stage\n",
    "            trialdata_filter = trialdf[(trialdf['fish_id'] == fish) & (trialdf['session'] == stage)]\n",
    "            sessiondata_filter = sessiondf[(sessiondf['fish_id'] == fish) & (sessiondf['session'] == stage)]\n",
    "            # Plot the data with the appropriate color for the stage\n",
    "            plt.plot(sessiondata_filter['plotday'], sessiondata_filter[sessionmeasure1], color=phase_colors[stage], label=stage)\n",
    "            plt.plot(sessiondata_filter['plotday'], sessiondata_filter[sessionmeasure2], color=phase_colors[stage], label=stage)\n",
    "            plt.plot(sessiondata_filter['plotday'], sessiondata_filter[sessionmeasure3], color=phase_colors[stage], label=stage)\n",
    "            plt.plot(sessiondata_filter['plotday'], sessiondata_filter[sessionmeasure4], color=phase_colors[stage], label=stage)\n",
    "            plt.scatter(trialdata_filter['plotday'], trialdata_filter[trialmeasure], color=phase_colors[stage], s=1, label=stage)\n",
    "\n",
    "        plt.xlabel('Plot Day')  # Set x-axis label\n",
    "        plt.ylabel(y_label)  # Set y-axis label\n",
    "        plt.title(f'Fish {fish} - {y_label} by Stage')  # Set plot title\n",
    "      #  plt.legend(title='Stage', bbox_to_anchor=(1, 1))  # Configure legend\n",
    "        plt.ylim(ylim)  # Set fixed data range for y-axis\n",
    "        plt.grid(False)  # Show grid\n",
    "        # Define the output directory and file path\n",
    "        output_file_path = os.path.join(plot_dir, f'{fish}')\n",
    "        \n",
    "        # Create the directory if it does not exist\n",
    "        if not os.path.exists(output_file_path):\n",
    "            os.makedirs(output_file_path)\n",
    "        \n",
    "        # Save the plot to a file\n",
    "        plt.savefig(os.path.join(output_file_path,f'{fish}_muti{trialmeasure}_plot.png'), bbox_inches='tight')\n",
    "        \n",
    "        plt.close()  # Close the plot to free memory"
   ]
  },
  {
   "cell_type": "code",
   "execution_count": 8,
   "metadata": {},
   "outputs": [],
   "source": [
    "plot_mutimeasure_by_stage(session_df,trial_df,'meanYds','medianYds','moving_mean_Yds','moving_median_Yds', 'Yds', 'mutimeasure of Yds', ylim=(-10, 10))"
   ]
  },
  {
   "cell_type": "code",
   "execution_count": 51,
   "metadata": {},
   "outputs": [],
   "source": [
    "plot_mutimeasure_by_stage(session_df,trial_df,'meandistance','mediandistance','moving_mean_ds','moving_median_ds', 'ds', 'mutimeasure of distance', ylim=(0, 25))"
   ]
  },
  {
   "cell_type": "code",
   "execution_count": 52,
   "metadata": {},
   "outputs": [],
   "source": [
    "plot_mutimeasure_by_stage(session_df,trial_df,'meandus','mediandus','moving_mean_dus','moving_median_dus', 'dus', 'mutimeasure of dus', ylim=(-300, 400))"
   ]
  },
  {
   "cell_type": "code",
   "execution_count": 53,
   "metadata": {},
   "outputs": [],
   "source": [
    "plot_mutimeasure_by_stage(session_df,trial_df,'meanduds','medianduds','moving_mean_duds','moving_median_duds', 'duds', 'mutimeasure of duds', ylim=(-0.02, 0.08))"
   ]
  },
  {
   "cell_type": "code",
   "execution_count": 54,
   "metadata": {},
   "outputs": [],
   "source": [
    "plot_mutimeasure_by_stage(session_df,trial_df,'meanEdis','medianEdis','moving_mean_Edis','moving_median_Edis', 'Edis', 'mutimeasure of Edis', ylim=(0, 3))"
   ]
  },
  {
   "cell_type": "code",
   "execution_count": 55,
   "metadata": {},
   "outputs": [],
   "source": [
    "plot_mutimeasure_by_stage(session_df,trial_df,'meanEAng','medianEAng','moving_mean_EAng','moving_median_EAng', 'EAng', 'mutimeasure of EAng', ylim=(-3.14, 3.14))"
   ]
  },
  {
   "cell_type": "code",
   "execution_count": 56,
   "metadata": {},
   "outputs": [],
   "source": [
    "plot_sesssionmeasure_by_stage(session_df,'stdEdis', 'std of end distance to target', ylim=(0, 2))\n"
   ]
  },
  {
   "cell_type": "code",
   "execution_count": 57,
   "metadata": {},
   "outputs": [],
   "source": [
    "plot_sesssionmeasure_by_stage(session_df,'stdEAng', 'std of end Angle to target', ylim=(0, 3.5))"
   ]
  },
  {
   "cell_type": "code",
   "execution_count": 58,
   "metadata": {},
   "outputs": [],
   "source": [
    "plot_sesssionmeasure_by_stage(session_df,'circular_mean_radians', 'circular mean of end Angle to target', ylim=(-3.14,3.14))"
   ]
  },
  {
   "cell_type": "code",
   "execution_count": 59,
   "metadata": {},
   "outputs": [],
   "source": [
    "plot_sesssionmeasure_by_stage(session_df,'EST', 'success times of one session', ylim=(0, 6))"
   ]
  },
  {
   "cell_type": "code",
   "execution_count": 60,
   "metadata": {},
   "outputs": [],
   "source": [
    "plot_measure_by_stage(session_df,trial_df, 'medianYds','Yds','Median Yds')\n",
    "plot_measure_by_stage(session_df,trial_df, 'meanYds','Yds','Mean Yds')"
   ]
  },
  {
   "cell_type": "code",
   "execution_count": 20,
   "metadata": {},
   "outputs": [],
   "source": [
    "plot_measure_by_stage(session_df,trial_df, 'medianYdsds','Ydsds','Median Ydsds', ylim=(-20, 20))"
   ]
  },
  {
   "cell_type": "code",
   "execution_count": 61,
   "metadata": {},
   "outputs": [],
   "source": [
    "plot_measure_by_stage(session_df,trial_df, 'moving_median_Yds','Yds','Moving Median Yds')\n",
    "plot_measure_by_stage(session_df,trial_df, 'moving_mean_Yds','Yds','Moving Mean Yds')\n"
   ]
  },
  {
   "cell_type": "code",
   "execution_count": 62,
   "metadata": {},
   "outputs": [],
   "source": [
    "plot_measure_by_stage(session_df,trial_df, 'mediandistance','ds','Median ditances', ylim=(0, 25))\n",
    "plot_measure_by_stage(session_df,trial_df, 'meandistance','ds','Mean distance', ylim=(0, 25))\n",
    "plot_measure_by_stage(session_df,trial_df, 'moving_median_ds','ds','Moving Median distance', ylim=(0, 25))\n",
    "plot_measure_by_stage(session_df,trial_df, 'moving_mean_ds','ds','Moving Mean distance', ylim=(0, 25))\n"
   ]
  },
  {
   "cell_type": "code",
   "execution_count": 63,
   "metadata": {},
   "outputs": [],
   "source": [
    "plot_measure_by_stage(session_df,trial_df, 'mediandus','dus','Median correct direction ratio', ylim=(-300, 400))\n",
    "plot_measure_by_stage(session_df,trial_df, 'meandus','dus','Mean correct direction ratio', ylim=(-300, 400))\n",
    "plot_measure_by_stage(session_df,trial_df, 'moving_median_dus','dus','Moving Median correct direction ratio', ylim=(-300, 400))\n",
    "plot_measure_by_stage(session_df,trial_df, 'moving_mean_dus','dus','Moving Mean correct direction ratio', ylim=(-300, 400))"
   ]
  },
  {
   "cell_type": "code",
   "execution_count": 64,
   "metadata": {},
   "outputs": [],
   "source": [
    "plot_measure_by_stage(session_df,trial_df, 'medianduds','duds','Median correct direction ratio2', ylim=(-0.02, 0.08))\n",
    "plot_measure_by_stage(session_df,trial_df, 'meanduds','duds','Mean correct direction ratio2', ylim=(-0.02, 0.08))\n",
    "plot_measure_by_stage(session_df,trial_df, 'moving_median_duds','duds','Moving Median correct direction ratio2', ylim=(-0.02, 0.08))\n",
    "plot_measure_by_stage(session_df,trial_df, 'moving_mean_duds','duds','Moving Mean correct direction ratio2', ylim=(-0.02, 0.08))"
   ]
  },
  {
   "cell_type": "code",
   "execution_count": 65,
   "metadata": {},
   "outputs": [],
   "source": [
    "plot_measure_by_stage(session_df,trial_df, 'medianEdis','Edis','Median end ditance to target', ylim=(0, 3))\n",
    "plot_measure_by_stage(session_df,trial_df, 'meanEdis','Edis','Mean end ditance to target', ylim=(0, 3))\n",
    "plot_measure_by_stage(session_df,trial_df, 'moving_median_Edis','Edis','Moving Median end ditance to target', ylim=(0, 3))\n",
    "plot_measure_by_stage(session_df,trial_df, 'moving_mean_Edis','Edis','Moving Mean end ditance to target', ylim=(0, 3))\n"
   ]
  },
  {
   "cell_type": "code",
   "execution_count": 66,
   "metadata": {},
   "outputs": [],
   "source": [
    "plot_measure_by_stage(session_df,trial_df, 'medianEAng','EAng','Median end Angle to target', ylim=(-3.14, 3.14))\n",
    "plot_measure_by_stage(session_df,trial_df, 'meanEAng','EAng','Mean end Angle to target', ylim=(-3.14, 3.14))\n",
    "plot_measure_by_stage(session_df,trial_df, 'moving_median_EAng','EAng','Moving Median end Angle to target', ylim=(-3.14, 3.14))\n",
    "plot_measure_by_stage(session_df,trial_df, 'moving_mean_EAng','EAng','Moving Mean end Angle to target', ylim=(-3.14, 3.14))"
   ]
  },
  {
   "cell_type": "code",
   "execution_count": 67,
   "metadata": {},
   "outputs": [],
   "source": [
    "plot_sesssionmeasure_by_stage(session_df,'σP', 'std of end point', ylim=(0, 2))"
   ]
  },
  {
   "cell_type": "code",
   "execution_count": 12,
   "metadata": {},
   "outputs": [],
   "source": [
    "plot_measure_by_stage(Psession_df,Ptrial_df, 'medianEDire','EDire','Median direction from start to end', ylim=(-40, 40))\n",
    "plot_measure_by_stage(Psession_df,Ptrial_df, 'meanEDire','EDire','Mean direction from start to end', ylim=(-40, 40))"
   ]
  },
  {
   "cell_type": "code",
   "execution_count": 14,
   "metadata": {},
   "outputs": [],
   "source": [
    "plot_measure_by_stage(Psession_df,Ptrial_df, 'circular_mean_degrees','EDire','circular_mean direction from start to end', ylim=(-40, 40))"
   ]
  },
  {
   "cell_type": "code",
   "execution_count": 13,
   "metadata": {},
   "outputs": [],
   "source": [
    "plot_sessionmeasure_relation(Psession_df,'Fdis','EDire','The relation of EDir and Fdis')"
   ]
  },
  {
   "cell_type": "code",
   "execution_count": 5,
   "metadata": {},
   "outputs": [],
   "source": [
    "plot_measure_by_stage(Psession_df,Ptrial_df, 'medianFCdis','Fcompletedis','Median Fancy complete trajctory length', ylim=(0, 15))"
   ]
  }
 ],
 "metadata": {
  "kernelspec": {
   "display_name": "pymc_env",
   "language": "python",
   "name": "python3"
  },
  "language_info": {
   "codemirror_mode": {
    "name": "ipython",
    "version": 3
   },
   "file_extension": ".py",
   "mimetype": "text/x-python",
   "name": "python",
   "nbconvert_exporter": "python",
   "pygments_lexer": "ipython3",
   "version": "3.11.8"
  }
 },
 "nbformat": 4,
 "nbformat_minor": 2
}
