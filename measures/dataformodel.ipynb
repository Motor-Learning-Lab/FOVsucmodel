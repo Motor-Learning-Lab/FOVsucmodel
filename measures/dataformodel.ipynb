{
 "cells": [
  {
   "cell_type": "code",
   "execution_count": 1,
   "metadata": {},
   "outputs": [],
   "source": [
    "import arviz as az\n",
    "import matplotlib.pyplot as plt\n",
    "import scipy.stats as stats\n",
    "import numpy as np\n",
    "import pandas as pd"
   ]
  },
  {
   "cell_type": "code",
   "execution_count": 2,
   "metadata": {},
   "outputs": [],
   "source": [
    "# F3BRWR = pd.read_csv(\"D:\\FOV2\\BRWanalysis\\data\\BRWR\\BRWR/fish_fish3_BRWRtrial.csv\")\n",
    "# F7BRWR = pd.read_csv(\"D:\\FOV2\\BRWanalysis\\data\\BRWR\\BRWR/fish_fish7_BRWRtrial.csv\")\n",
    "# F9BRWR = pd.read_csv(\"D:\\FOV2\\BRWanalysis\\data\\BRWR\\BRWR/fish_fish9_BRWRtrial.csv\")\n",
    "# F10BRWR = pd.read_csv(\"D:\\FOV2\\BRWanalysis\\data\\BRWR\\BRWR/fish_fish10_BRWRtrial.csv\")\n",
    "# F12BRWR = pd.read_csv(\"D:\\FOV2\\BRWanalysis\\data\\BRWR\\BRWR/fish_fish12_BRWRtrial.csv\")\n",
    "# F14BRWR = pd.read_csv(\"D:\\FOV2\\BRWanalysis\\data\\BRWR\\BRWR/fish_fish14_BRWRtrial.csv\")\n"
   ]
  },
  {
   "cell_type": "code",
   "execution_count": 3,
   "metadata": {},
   "outputs": [],
   "source": [
    "# # Concatenate the dataframes\n",
    "# Allfishtrial = pd.concat([F3BRWR, F7BRWR, F9BRWR, F10BRWR,F12BRWR,F14BRWR], ignore_index=True)"
   ]
  },
  {
   "cell_type": "code",
   "execution_count": 4,
   "metadata": {},
   "outputs": [],
   "source": [
    "#Allfishtrial = pd.read_csv('D:/Fovmodel/FOVezmodel/model_trial_new.csv')"
   ]
  },
  {
   "cell_type": "code",
   "execution_count": 5,
   "metadata": {},
   "outputs": [],
   "source": [
    "Allfishtrial = pd.read_csv('D:/Fovmeasure/Measures/Pdata/Ptrial.csv')"
   ]
  },
  {
   "cell_type": "code",
   "execution_count": 6,
   "metadata": {},
   "outputs": [],
   "source": [
    "# Select the required columns\n",
    "fishtrial = Allfishtrial[['fish_id', 'session', 'day', 'plotday', 'trial_id','OESuc','EDire','Fcompletedis']]\n",
    "#fishtrial = Allfishtrial[['fish', 'stage', 'day', 'distance', 'yds']]\n"
   ]
  },
  {
   "cell_type": "code",
   "execution_count": 7,
   "metadata": {},
   "outputs": [],
   "source": [
    "# Rename the columns\n",
    "fishtrial.columns = ['fish', 'stage', 'day', 'plotday','trial','EST', 'yds','distance']\n",
    "\n"
   ]
  },
  {
   "cell_type": "code",
   "execution_count": 8,
   "metadata": {},
   "outputs": [],
   "source": [
    "Allfishsession = pd.read_csv('D:/Fovmeasure/Measures/Pdata/Psessionplot.csv')"
   ]
  },
  {
   "cell_type": "code",
   "execution_count": 13,
   "metadata": {},
   "outputs": [],
   "source": [
    "# Select the required columns\n",
    "fishsession = Allfishsession[['fish_id', 'session', 'day', 'plotday', 'trial_id','EST','medianFdis','medianEDire','circular_mean_degrees']]\n",
    "#fishtrial = Allfishtrial[['fish', 'stage', 'day', 'distance', 'yds']]\n",
    "# Rename the columns\n",
    "fishsession.columns = ['fish', 'stage', 'day', 'plotday','trial','EST','distance', 'yds','circular_mean_degrees']"
   ]
  },
  {
   "cell_type": "code",
   "execution_count": 10,
   "metadata": {},
   "outputs": [],
   "source": [
    "# # Initialize trial number\n",
    "# trial_number = 1\n",
    "\n",
    "# # List to store trial numbers\n",
    "# trial_numbers = []\n",
    "\n",
    "# # Loop through each row in the dataframe\n",
    "# for index, row in fishtrial.iterrows():\n",
    "#     # Check if the 'day' is different from the previous row\n",
    "#     if index == 0 or row['day'] != fishtrial.loc[index - 1, 'day']:\n",
    "#         trial_number = 1  # Start a new trial\n",
    "#     else:\n",
    "#         trial_number += 1  # Increment trial number\n",
    "    \n",
    "#     # Append the trial number to the list\n",
    "#     trial_numbers.append(trial_number)\n",
    "\n",
    "# # Add the list of trial numbers to the dataframe\n",
    "# fishtrial['trial'] = trial_numbers"
   ]
  },
  {
   "cell_type": "code",
   "execution_count": 11,
   "metadata": {},
   "outputs": [],
   "source": [
    "# Save the dataframe to a new CSV file\n",
    "fishtrial.to_csv('model_trial_patched.csv', index=False)\n"
   ]
  },
  {
   "cell_type": "code",
   "execution_count": 14,
   "metadata": {},
   "outputs": [],
   "source": [
    "fishsession.to_csv('model_session_patched.csv', index=False)"
   ]
  }
 ],
 "metadata": {
  "kernelspec": {
   "display_name": "pymc_env",
   "language": "python",
   "name": "python3"
  },
  "language_info": {
   "codemirror_mode": {
    "name": "ipython",
    "version": 3
   },
   "file_extension": ".py",
   "mimetype": "text/x-python",
   "name": "python",
   "nbconvert_exporter": "python",
   "pygments_lexer": "ipython3",
   "version": "3.11.8"
  }
 },
 "nbformat": 4,
 "nbformat_minor": 2
}
