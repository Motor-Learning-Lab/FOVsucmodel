{
 "cells": [
  {
   "cell_type": "code",
   "execution_count": 1,
   "metadata": {},
   "outputs": [],
   "source": [
    "import pandas as pd\n",
    "import matplotlib.pyplot as plt\n",
    "import matplotlib.patches as patches\n",
    "import numpy as np\n",
    "import os\n",
    "import math\n",
    "from matplotlib.animation import FuncAnimation\n",
    "from matplotlib.patches import Rectangle, FancyArrowPatch\n",
    "import seaborn as sns\n"
   ]
  },
  {
   "cell_type": "code",
   "execution_count": 2,
   "metadata": {},
   "outputs": [],
   "source": [
    "session_df = pd.read_csv(\"D:\\FOVmeasure\\Measures\\measures\\model_sessionplot_df.csv\")\n",
    "# Asession_df = pd.read_csv(\"D:\\FOVmeasure\\Measures\\measures\\model_Asessionplot_df.csv\")\n",
    "Asession_df = pd.read_csv(\"D:\\FOVmodel\\model_Asessionplot_df.csv\")\n",
    "trial_df = pd.read_csv(\"D:\\FOVmeasure\\Measures\\measures\\model_trial_df.csv\")"
   ]
  },
  {
   "cell_type": "code",
   "execution_count": 3,
   "metadata": {},
   "outputs": [],
   "source": [
    "#input some set up\n",
    "#target point(-2.85,0.108).position point(-2.85,-0.623),width0.71,height1.256,and the rader postion0.45,\n",
    "# Define the target point\n",
    "target_x = -2.025\n",
    "rader_x = 0.45\n",
    "target_y = 0\n",
    "\n",
    " # Define the vertices of the hexagon in (x,y) coordinate pairs\n",
    "vertices = [(-2.5, -1.37), (-2.5, 1.486), (-0.04,  1.486), (-0.04, 1.123), (0.8465, 1.123), (0.8465, -1.37)]\n",
    "\n",
    "# Define the target area position, width, and height.target point(-2.85,0.108).position point(-2.85,-0.623),width0.71,height1.256,and the rader postion error 0.32\n",
    "rect_pos = (-2.2,-0.314 )\n",
    "rect_width = 0.35\n",
    "rect_height = 0.628\n",
    "\n",
    "\n",
    "criterion_dis = 4\n",
    "criterion_Yr = 0.314\n",
    "\n",
    "x_range = (-2.8,1.8)\n",
    "y_range = (-1.8,1.8)\n",
    "time_range = (0,180)\n",
    "Y_range = (0,0.5)\n",
    "\n",
    "# Define the path to the directory containing the data, the path to store the output \n",
    "\n",
    "diskaddress = \"D:/FOVmeasure/\"\n",
    "\n",
    "Measures_dir = os.path.join(diskaddress,\"Measures/\")\n",
    "data_dir = os.path.join(Measures_dir,\"data/\")\n",
    "plot_dir = os.path.join(Measures_dir,\"plot/\")\n",
    "plotA_dir = os.path.join(Measures_dir,\"plot/Acrossfish\")\n",
    "Baselinedata_dir = os.path.join(diskaddress,\"Rawdata/Baselinedata/\")\n",
    "Rotationdata_dir = os.path.join(diskaddress,\"Rawdata/Rotationdata/\")\n",
    "Washoutdata_dir = os.path.join(diskaddress,\"Rawdata/Washoutdata/\")\n",
    "ReRotationdata_dir = os.path.join(diskaddress,\"Rawdata/ReRotationdata/\")\n",
    "ReWashoutdata_dir = os.path.join(diskaddress,\"Rawdata/ReWashoutdata/\")\n",
    "fishmeasures_dir = os.path.join(Measures_dir,\"measures/\")\n",
    "\n",
    "\n",
    "# Create the directory if it does not exist\n",
    "if not os.path.exists(Measures_dir):\n",
    "    os.makedirs(Measures_dir)\n",
    "# Create the directory if it does not exist\n",
    "if not os.path.exists(fishmeasures_dir):\n",
    "    os.makedirs(fishmeasures_dir)\n",
    "    # Create the directory if it does not exist\n",
    "if not os.path.exists(plot_dir):\n",
    "    os.makedirs(plot_dir)\n",
    "if not os.path.exists(plotA_dir):\n",
    "    os.makedirs(plotA_dir)\n",
    "\n",
    "stages = ['Baseline', 'Rotation', 'Washout', 'ReRotation','ReWashout']\n",
    "# Define color mapping for trial phases\n",
    "phase_colors = {\n",
    "    'Baseline': 'green',\n",
    "    'Rotation': 'red',\n",
    "    'Washout': 'green',\n",
    "    'ReRotation': 'blue',\n",
    "    'ReWashout': 'green',\n",
    "}\n",
    "\n",
    "\n"
   ]
  },
  {
   "cell_type": "code",
   "execution_count": 4,
   "metadata": {},
   "outputs": [],
   "source": [
    "def plot_Asesssionmeasure_bymean_stage(Asessiondf, Asessionmeasure, y_label, ylim=(-10, 10)):\n",
    "    \"\"\"\n",
    "    Plots the specified measure for each fish by stage with individual fish lines in lighter color\n",
    "    and a darker line for the mean value of the measure.\n",
    "\n",
    "    Parameters:\n",
    "        Asessiondf (DataFrame): The combined DataFrame containing the data.\n",
    "        Asessionmeasure (str): The column name of the measure to plot.\n",
    "        y_label (str): The label for the y-axis.\n",
    "        ylim (tuple): The limits for the y-axis.\n",
    "    \"\"\"\n",
    "    plt.figure(figsize=(14, 4.8))  # Set figure size\n",
    "\n",
    "    # Plot each fish's measure with a lighter color\n",
    "    for fish in Asessiondf['fish_id'].unique():\n",
    "        for stage in stages:\n",
    "            sessiondata_filter = Asessiondf[(Asessiondf['fish_id'] == fish) & (Asessiondf['session'] == stage)]\n",
    "            plt.plot(sessiondata_filter['plotday'], sessiondata_filter[Asessionmeasure], color=phase_colors[stage], alpha=0.3)\n",
    "\n",
    "    # Calculate and plot the mean measure with a darker color\n",
    "    mean_measures = Asessiondf.groupby(['plotday', 'session'])[Asessionmeasure].mean().reset_index()\n",
    "    for stage in stages:\n",
    "        mean_filter = mean_measures[mean_measures['session'] == stage]\n",
    "        plt.plot(mean_filter['plotday'], mean_filter[Asessionmeasure], color=phase_colors[stage], label=f'Mean {stage}', linewidth=2.5)\n",
    "\n",
    "    plt.xlabel('Plot Day')  # Set x-axis label\n",
    "    plt.ylabel(y_label)  # Set y-axis label\n",
    "    plt.title(f'AcrossFish mean - {y_label} by Stage')  # Set plot title\n",
    "    plt.legend(title='Stage', bbox_to_anchor=(1, 1))  # Configure legend\n",
    "    plt.ylim(ylim)  # Set fixed data range for y-axis\n",
    "    plt.grid(False)  # Show grid\n",
    "\n",
    "    # Define the output directory and file path\n",
    "    output_file_path = os.path.join(plotA_dir)\n",
    "        \n",
    "    # Create the directory if it does not exist\n",
    "    if not os.path.exists(output_file_path):\n",
    "        os.makedirs(output_file_path)\n",
    "        \n",
    "    # Save the plot to a file\n",
    "    plt.savefig(os.path.join(output_file_path, f'Across_{Asessionmeasure}_mean_plot.png'), bbox_inches='tight')\n",
    "        \n",
    "    plt.close()  # Close the plot to free memory"
   ]
  },
  {
   "cell_type": "code",
   "execution_count": 5,
   "metadata": {},
   "outputs": [],
   "source": [
    "def plot_Asesssionmeasure_bymedian_stage(Asessiondf, Asessionmeasure, y_label, ylim=(-10, 10)):\n",
    "    \"\"\"\n",
    "    Plots the specified measure for each fish by stage with individual fish lines in lighter color\n",
    "    and a darker line for the mean value of the measure.\n",
    "\n",
    "    Parameters:\n",
    "        Asessiondf (DataFrame): The combined DataFrame containing the data.\n",
    "        Asessionmeasure (str): The column name of the measure to plot.\n",
    "        y_label (str): The label for the y-axis.\n",
    "        ylim (tuple): The limits for the y-axis.\n",
    "    \"\"\"\n",
    "    plt.figure(figsize=(14, 4.8))  # Set figure size\n",
    "\n",
    "    # Plot each fish's measure with a lighter color\n",
    "    for fish in Asessiondf['fish_id'].unique():\n",
    "        for stage in stages:\n",
    "            sessiondata_filter = Asessiondf[(Asessiondf['fish_id'] == fish) & (Asessiondf['session'] == stage)]\n",
    "            plt.plot(sessiondata_filter['plotday'], sessiondata_filter[Asessionmeasure], color=phase_colors[stage], alpha=0.3)\n",
    "\n",
    "    # Calculate and plot the mean measure with a darker color\n",
    "    median_measures = Asessiondf.groupby(['plotday', 'session'])[Asessionmeasure].median().reset_index()\n",
    "    for stage in stages:\n",
    "        median_filter = median_measures[median_measures['session'] == stage]\n",
    "        plt.plot(median_filter['plotday'], median_filter[Asessionmeasure], color=phase_colors[stage], label=f'Mean {stage}', linewidth=2.5)\n",
    "\n",
    "    plt.xlabel('Plot Day')  # Set x-axis label\n",
    "    plt.ylabel(y_label)  # Set y-axis label\n",
    "    plt.title(f'AcrossFish median - {y_label} by Stage')  # Set plot title\n",
    "    plt.legend(title='Stage', bbox_to_anchor=(1, 1))  # Configure legend\n",
    "    plt.ylim(ylim)  # Set fixed data range for y-axis\n",
    "    plt.grid(False)  # Show grid\n",
    "\n",
    "    # Define the output directory and file path\n",
    "    output_file_path = os.path.join(plotA_dir)\n",
    "        \n",
    "    # Create the directory if it does not exist\n",
    "    if not os.path.exists(output_file_path):\n",
    "        os.makedirs(output_file_path)\n",
    "        \n",
    "    # Save the plot to a file\n",
    "    plt.savefig(os.path.join(output_file_path, f'Across_{Asessionmeasure}_median_plot.png'), bbox_inches='tight')\n",
    "        \n",
    "    plt.close()  # Close the plot to free memory"
   ]
  },
  {
   "cell_type": "code",
   "execution_count": 23,
   "metadata": {},
   "outputs": [],
   "source": [
    "def plot_Asesssionmeasure_fish9_stage(Asessiondf, Asessionmeasure, y_label, ylim=(-10, 10)):\n",
    "    \"\"\"\n",
    "    Plots the specified measure for each fish by stage with individual fish lines in lighter color\n",
    "    and a darker line for the mean value of the measure.\n",
    "\n",
    "    Parameters:\n",
    "        Asessiondf (DataFrame): The combined DataFrame containing the data.\n",
    "        Asessionmeasure (str): The column name of the measure to plot.\n",
    "        y_label (str): The label for the y-axis.\n",
    "        ylim (tuple): The limits for the y-axis.\n",
    "    \"\"\"\n",
    "    plt.figure(figsize=(14, 4.8))  # Set figure size\n",
    "\n",
    "\n",
    "    for stage in stages:\n",
    "        sessiondata_filter = Asessiondf[(Asessiondf['fish_id'] == 'fish9') & (Asessiondf['session'] == stage)]\n",
    "        plt.plot(sessiondata_filter['plotday'], sessiondata_filter[Asessionmeasure], color=phase_colors[stage], label=f'Mean {stage}', linewidth=2.5)\n",
    "\n",
    "    plt.xlabel('Plot Day')  # Set x-axis label\n",
    "    plt.ylabel(y_label)  # Set y-axis label\n",
    "    plt.title(f'Individual Fish mean - {y_label} by Stage')  # Set plot title\n",
    "    #plt.legend(title='Stage', bbox_to_anchor=(1, 1))  # Configure legend\n",
    "    plt.ylim(ylim)  # Set fixed data range for y-axis\n",
    "    plt.grid(False)  # Show grid\n",
    "\n",
    "    # Define the output directory and file path\n",
    "    output_file_path = os.path.join(plotA_dir)\n",
    "        \n",
    "    # Create the directory if it does not exist\n",
    "    if not os.path.exists(output_file_path):\n",
    "        os.makedirs(output_file_path)\n",
    "        \n",
    "    # Save the plot to a file\n",
    "    plt.savefig(os.path.join(output_file_path, f'Fish9_{Asessionmeasure}_mean_plot.png'), bbox_inches='tight')\n",
    "        \n",
    "    plt.close()  # Close the plot to free memory"
   ]
  },
  {
   "cell_type": "code",
   "execution_count": 25,
   "metadata": {},
   "outputs": [],
   "source": [
    "plot_Asesssionmeasure_fish9_stage(Asession_df,'EST', 'number of success of one session across fish', ylim=(0, 7))"
   ]
  },
  {
   "cell_type": "code",
   "execution_count": 25,
   "metadata": {},
   "outputs": [],
   "source": [
    "plot_Asesssionmeasure_bymean_stage(Asession_df,'EST', 'number of success of one session across fish', ylim=(0, 6))"
   ]
  },
  {
   "cell_type": "code",
   "execution_count": 26,
   "metadata": {},
   "outputs": [],
   "source": [
    "plot_Asesssionmeasure_bymedian_stage(Asession_df,'EST', 'number of success of one session across fish', ylim=(0, 6))"
   ]
  },
  {
   "cell_type": "code",
   "execution_count": 34,
   "metadata": {},
   "outputs": [],
   "source": [
    "plot_Asesssionmeasure_bymean_stage(Asession_df,'meanEdis', 'Distance between End point adn target point across fish', ylim=(0, 2))\n",
    "plot_Asesssionmeasure_bymedian_stage(Asession_df,'medianEdis', 'Distance between End point adn target point across fish', ylim=(0, 2))"
   ]
  },
  {
   "cell_type": "code",
   "execution_count": 37,
   "metadata": {},
   "outputs": [],
   "source": [
    "plot_Asesssionmeasure_bymean_stage(Asession_df,'meandistance', 'Total trajectory length across fish', ylim=(0, 13))\n",
    "plot_Asesssionmeasure_bymedian_stage(Asession_df,'mediandistance', 'Total trajectory length across fish', ylim=(0, 13))"
   ]
  },
  {
   "cell_type": "code",
   "execution_count": 35,
   "metadata": {},
   "outputs": [],
   "source": [
    "plot_Asesssionmeasure_bymean_stage(Asession_df,'meanYds', 'Sum of error on y axis across fish', ylim=(-6, 6))\n",
    "plot_Asesssionmeasure_bymedian_stage(Asession_df,'medianYds', 'Sum of error on y axis  across fish', ylim=(-6, 6))"
   ]
  },
  {
   "cell_type": "code",
   "execution_count": 30,
   "metadata": {},
   "outputs": [],
   "source": [
    "plot_Asesssionmeasure_bymean_stage(Asession_df,'meandus', 'correct direction ratio across fish', ylim=(-300, 400))\n",
    "plot_Asesssionmeasure_bymedian_stage(Asession_df,'mediandus', 'correct direction ratio across fish', ylim=(-300, 400))"
   ]
  },
  {
   "cell_type": "code",
   "execution_count": 31,
   "metadata": {},
   "outputs": [],
   "source": [
    "plot_Asesssionmeasure_bymean_stage(Asession_df,'meanduds', 'correct direction ratio 2 across fish', ylim=(-0.02, 0.08))\n",
    "plot_Asesssionmeasure_bymedian_stage(Asession_df,'medianduds', 'correct direction ratio 2 across fish', ylim=(-0.02, 0.08))"
   ]
  },
  {
   "cell_type": "code",
   "execution_count": 36,
   "metadata": {},
   "outputs": [],
   "source": [
    "plot_Asesssionmeasure_bymean_stage(Asession_df,'σP', 'std of postion of end point across fish', ylim=(0, 2))\n",
    "plot_Asesssionmeasure_bymedian_stage(Asession_df,'σP', 'std of postion of end point across fish', ylim=(0, 2))"
   ]
  },
  {
   "cell_type": "code",
   "execution_count": 33,
   "metadata": {},
   "outputs": [],
   "source": [
    "plot_Asesssionmeasure_bymean_stage(Asession_df,'meanEAng', ' Angle between End point adn target point across fish', ylim=(-3.14, 3.14))\n",
    "plot_Asesssionmeasure_bymedian_stage(Asession_df,'medianEAng', 'Angle between End point adn target point across fish', ylim=(-3.14, 3.14))"
   ]
  },
  {
   "cell_type": "code",
   "execution_count": 17,
   "metadata": {},
   "outputs": [],
   "source": [
    "plot_Asesssionmeasure_bymean_stage(Asession_df,'circular_mean_radians', 'Circular Angle between End point adn target point across fish', ylim=(-3.14, 3.14))"
   ]
  },
  {
   "cell_type": "code",
   "execution_count": null,
   "metadata": {},
   "outputs": [],
   "source": []
  }
 ],
 "metadata": {
  "kernelspec": {
   "display_name": "pymc_env",
   "language": "python",
   "name": "python3"
  },
  "language_info": {
   "codemirror_mode": {
    "name": "ipython",
    "version": 3
   },
   "file_extension": ".py",
   "mimetype": "text/x-python",
   "name": "python",
   "nbconvert_exporter": "python",
   "pygments_lexer": "ipython3",
   "version": "3.11.8"
  }
 },
 "nbformat": 4,
 "nbformat_minor": 2
}
